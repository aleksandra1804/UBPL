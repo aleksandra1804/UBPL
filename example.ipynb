{
 "cells": [
  {
   "cell_type": "markdown",
   "id": "e2686460-3004-49c0-8602-60c513bfa933",
   "metadata": {},
   "source": [
    "# Potrzebne pakiety i funkcje"
   ]
  },
  {
   "cell_type": "code",
   "execution_count": 1,
   "id": "59802993-7505-4db0-9000-6b23679935b8",
   "metadata": {},
   "outputs": [],
   "source": [
    "from ucimlrepo import fetch_ucirepo\n",
    "\n",
    "from sklearn.metrics import balanced_accuracy_score\n",
    "from sklearn.model_selection import train_test_split\n",
    "from sklearn.linear_model import LogisticRegression\n",
    "import pandas as pd\n",
    "\n",
    "from UBPL import UBPL # metoda Uncertainty-Based Pseudo-Labeling\n",
    "from make_pu_labels import make_pu_labels # funkcja do generowania danych PU"
   ]
  },
  {
   "cell_type": "markdown",
   "id": "2152a47e-7a62-4871-95a9-a92678f866c2",
   "metadata": {},
   "source": [
    "# Wczytanie danych"
   ]
  },
  {
   "cell_type": "markdown",
   "id": "610c3526-16d9-4c67-aee4-6138c4f60f08",
   "metadata": {},
   "source": [
    "Dane *Breast Cancer Wisconsin (Diagnostic)* z repozytorium UCI:"
   ]
  },
  {
   "cell_type": "code",
   "execution_count": 2,
   "id": "df4f0648-df14-4ee8-898d-7f723ab89b6a",
   "metadata": {},
   "outputs": [],
   "source": [
    "breast_cancer_wisconsin_diagnostic = fetch_ucirepo(id=17)\n",
    "X = breast_cancer_wisconsin_diagnostic.data.features\n",
    "y = breast_cancer_wisconsin_diagnostic.data.targets\n",
    "y = y.replace('M', 1)\n",
    "y = y.replace('B', 0)\n",
    "y = y.values.flatten()"
   ]
  },
  {
   "cell_type": "markdown",
   "id": "fc664a58-472b-4211-8fd2-7098afe645e1",
   "metadata": {},
   "source": [
    "# Podział na zbiór uczący i testowy"
   ]
  },
  {
   "cell_type": "code",
   "execution_count": 3,
   "id": "c6705c61-5301-49bf-a0bb-dc92c2d7b53b",
   "metadata": {},
   "outputs": [],
   "source": [
    "X_train, X_test, y_train, y_test = train_test_split(X, y, test_size = 1/4)"
   ]
  },
  {
   "cell_type": "markdown",
   "id": "abd1839d-51cc-42e0-a21c-0d74a69abec8",
   "metadata": {},
   "source": [
    "# Metoda wyrocznia"
   ]
  },
  {
   "cell_type": "markdown",
   "id": "8c9ba536-5323-467b-ba9c-d5209102f172",
   "metadata": {},
   "source": [
    "Utworzenie regresji logistycznej z regularyzacją $\\ell_2$ i parametrem regularyzacji $\\lambda=1$, dopasowanie modelu do danych uczących i predykcja na zbiorze testowym:"
   ]
  },
  {
   "cell_type": "code",
   "execution_count": 4,
   "id": "a01ca1fc-13d8-41b7-880c-5c2c21059fbc",
   "metadata": {},
   "outputs": [],
   "source": [
    "logreg_oracle = LogisticRegression()\n",
    "logreg_oracle.fit(X_train, y_train)\n",
    "y_pred_oracle = logreg_oracle.predict(X_test)"
   ]
  },
  {
   "cell_type": "markdown",
   "id": "32d36e6a-f200-49bc-88eb-ae271546b6b3",
   "metadata": {},
   "source": [
    "Dodatkowo wyznaczenie estymatorów prawdopodobieństw a posteriori $y(x)$ na zbiorze uczącym:"
   ]
  },
  {
   "cell_type": "code",
   "execution_count": 5,
   "id": "e02c1f2f-b256-42d5-99da-123802fbff43",
   "metadata": {},
   "outputs": [],
   "source": [
    "y_pred_proba_oracle = logreg_oracle.predict_proba(X_train)[:,1]"
   ]
  },
  {
   "cell_type": "markdown",
   "id": "2b462f30-c3ce-438f-8270-b83d73911458",
   "metadata": {},
   "source": [
    "Estymatory $\\hat{y}(x)$ są wykorzystywane w funkcji *make_pu_labels* do generowania danych PU - są potrzebne przy wyznaczaniu funkcji skłonności w scenariuszu S2."
   ]
  },
  {
   "cell_type": "markdown",
   "id": "af6551d4-9195-4246-ab9b-6831d2cfb834",
   "metadata": {},
   "source": [
    "# Generowanie danych PU"
   ]
  },
  {
   "cell_type": "markdown",
   "id": "684ef8b5-1bb3-4a83-8de5-b5b22b15e5ba",
   "metadata": {},
   "source": [
    "- Funkcja *make_pu_labels* służy do generowania danych PU dla zadanej częstości etykiet $c$ i zadanego scenariusza - S1 lub S2.\n",
    "- Dodatkowo konieczne jest podanie estymatorów $\\hat{y}(x)$  na zbiorze uczącym.\n",
    "- Funkcja zwraca zmienną zastępczą $S$ i wartości funkcji skłonności $e(x)$ dla każdej obserwacji ze zbioru uczącego PU."
   ]
  },
  {
   "cell_type": "markdown",
   "id": "8617ab4e-014a-4dae-bf84-9a0b930bface",
   "metadata": {},
   "source": [
    "Wygenerowanie danych PU z wykorzystaniem schematu S1 i częstości etykiet $c=0.4$:"
   ]
  },
  {
   "cell_type": "code",
   "execution_count": 6,
   "id": "f0fce2be-5e98-4a25-aa88-330b045655a9",
   "metadata": {},
   "outputs": [],
   "source": [
    "s_S1, ex_true_S1 = make_pu_labels(X_train, y_train, prob_true=y_pred_proba_oracle, label_scheme='S1', c=0.4)"
   ]
  },
  {
   "cell_type": "markdown",
   "id": "af847a11-b75c-4892-b925-0312349fce27",
   "metadata": {},
   "source": [
    "Analogicznie można wygenerować dane PU z wykorzystaniem schematu S2 i częstości etykiet $c=0.7$:"
   ]
  },
  {
   "cell_type": "code",
   "execution_count": 7,
   "id": "aa5343ba-1407-4d13-a5d9-c52f051eb5f3",
   "metadata": {},
   "outputs": [],
   "source": [
    "s_S2, ex_true_S2 = make_pu_labels(X_train, y_train, prob_true=y_pred_proba_oracle, label_scheme='S2', c=0.7)"
   ]
  },
  {
   "cell_type": "markdown",
   "id": "716c893d-8653-46e0-8982-e859c90961b6",
   "metadata": {},
   "source": [
    "# Metoda naiwna"
   ]
  },
  {
   "cell_type": "markdown",
   "id": "cc0d2477-7859-49ee-943f-0fc10ecf3ec3",
   "metadata": {},
   "source": [
    "Przykład dla danych PU wygeberowanych z wykorzystaniem schematu S1 i częstości etykiet $c=0.4$."
   ]
  },
  {
   "cell_type": "markdown",
   "id": "b540ac75-20e1-4f2d-822b-7203061593a5",
   "metadata": {},
   "source": [
    "Utworzenie regresji logistycznej z regularyzacją $\\ell_2$ i parametrem regularyzacji $\\lambda=1$, dopasowanie modelu do danych uczących PU i predykcja na zbiorze testowym:"
   ]
  },
  {
   "cell_type": "code",
   "execution_count": 8,
   "id": "3c4ff301-a6d3-4b2f-9781-113b3c61d943",
   "metadata": {},
   "outputs": [],
   "source": [
    "logreg_naive = LogisticRegression()\n",
    "logreg_naive.fit(X_train, s_S1)\n",
    "y_pred_naive = logreg_naive.predict(X_test)"
   ]
  },
  {
   "cell_type": "markdown",
   "id": "05e92722-77e1-4952-87bc-a96d698b6a0f",
   "metadata": {},
   "source": [
    "# Metoda Uncertainty-Based Pseudo-Labeling (UBPL)"
   ]
  },
  {
   "cell_type": "markdown",
   "id": "5d5fa193-79bc-498e-8dda-2c196839986f",
   "metadata": {},
   "source": [
    "Przykład dla danych PU wygeberowanych z wykorzystaniem schematu S1 i częstości etykiet $c=0.4$."
   ]
  },
  {
   "cell_type": "markdown",
   "id": "9bc59ef3-a59d-48eb-b71d-7ad3a94638a8",
   "metadata": {},
   "source": [
    "Utworzenie modelu UBPL dla 5 modeli logistycznych w komitecie klasyfikatorów (parametr $K$), 20 iteracji (parametr $J$), progu dolnego $t_l=0.05$ i progu górnego $t_u=0.35$:"
   ]
  },
  {
   "cell_type": "code",
   "execution_count": 9,
   "id": "b6e11e00-e839-413b-819a-be7acf44fad6",
   "metadata": {},
   "outputs": [],
   "source": [
    "ubpl = UBPL(K=5, J=20, t_l=0.05, t_u=0.35)"
   ]
  },
  {
   "cell_type": "markdown",
   "id": "10c407ca-ef51-4c9a-ad4b-a4b18fbb2d1b",
   "metadata": {},
   "source": [
    "Dopasowanie modelu do danych PU:"
   ]
  },
  {
   "cell_type": "code",
   "execution_count": 10,
   "id": "c0d215de-b416-4571-a7a0-a1843953038d",
   "metadata": {},
   "outputs": [
    {
     "data": {
      "text/plain": [
       "<UBPL.UBPL at 0x1d178c710c0>"
      ]
     },
     "execution_count": 10,
     "metadata": {},
     "output_type": "execute_result"
    }
   ],
   "source": [
    "ubpl.fit(X_train, s_S1)"
   ]
  },
  {
   "cell_type": "markdown",
   "id": "5ebf0521-606c-4a27-9638-e29613c9f57d",
   "metadata": {},
   "source": [
    "Wyznaczenie predykcji, tzn. estymatora zmiennej odpowiedzi na zbiorze uczącym:"
   ]
  },
  {
   "cell_type": "code",
   "execution_count": 11,
   "id": "6b642e19-24f9-4263-9f25-43a3b81f2560",
   "metadata": {},
   "outputs": [],
   "source": [
    "y_ubpl = ubpl.predict()"
   ]
  },
  {
   "cell_type": "markdown",
   "id": "38264532-ff83-401e-bc8d-c4d76d2e94ed",
   "metadata": {},
   "source": [
    "Utworzenie regresji logistycznej z regularyzacją $\\ell_2$ i parametrem regularyzacji $\\lambda=1$, dopasowanie modelu do danych uczących z zastosowaniem estymatora zmiennej odpowiedzi wyznaczonego w poprzednim kroku oraz predykcja na zbiorze testowym:"
   ]
  },
  {
   "cell_type": "code",
   "execution_count": 12,
   "id": "34b1ab2f-c501-4df6-9dfc-771a9ae80f62",
   "metadata": {},
   "outputs": [],
   "source": [
    "logreg_ubpl = LogisticRegression()\n",
    "logreg_ubpl.fit(X_train, y_ubpl)\n",
    "y_pred_ubpl = logreg_ubpl.predict(X_test)"
   ]
  },
  {
   "cell_type": "markdown",
   "id": "c6dab3d5-35d2-4fcd-a9e7-72d763531a47",
   "metadata": {},
   "source": [
    "# Porównanie wyników 3 metod z wykorzystaniem zbalansowanej dokładności na zbiorze testowym"
   ]
  },
  {
   "cell_type": "markdown",
   "id": "c3324fec-aee9-4a23-96c5-befec5fd1bf5",
   "metadata": {},
   "source": [
    "Zbalansowana dokładność dla metody wyroczni:"
   ]
  },
  {
   "cell_type": "code",
   "execution_count": 13,
   "id": "e50c963d-898b-44d5-b3db-0811a73c601e",
   "metadata": {},
   "outputs": [
    {
     "name": "stdout",
     "output_type": "stream",
     "text": [
      "0.9168684422921711\n"
     ]
    }
   ],
   "source": [
    "print(balanced_accuracy_score(y_test, y_pred_oracle))"
   ]
  },
  {
   "cell_type": "markdown",
   "id": "08856079-7cf4-4520-9bb9-d7d8b659b545",
   "metadata": {},
   "source": [
    "Zbalansowana dokładność dla metody naiwnej:"
   ]
  },
  {
   "cell_type": "code",
   "execution_count": 14,
   "id": "08bbed63-0dfd-438b-b8b2-c0f107f6630d",
   "metadata": {},
   "outputs": [
    {
     "name": "stdout",
     "output_type": "stream",
     "text": [
      "0.5872679580306699\n"
     ]
    }
   ],
   "source": [
    "print(balanced_accuracy_score(y_test, y_pred_naive))"
   ]
  },
  {
   "cell_type": "markdown",
   "id": "58866032-82e6-4de7-b1f1-17e51c8e6ddb",
   "metadata": {},
   "source": [
    "Zbalansowana dokładność dla metody UBPL:"
   ]
  },
  {
   "cell_type": "code",
   "execution_count": 15,
   "id": "346a7de5-5df9-46d2-a166-acb607c2b439",
   "metadata": {},
   "outputs": [
    {
     "name": "stdout",
     "output_type": "stream",
     "text": [
      "0.9058716707021792\n"
     ]
    }
   ],
   "source": [
    "print(balanced_accuracy_score(y_test, y_pred_ubpl))"
   ]
  },
  {
   "cell_type": "markdown",
   "id": "ea9619e8-c2fb-4768-ba53-ff456de6d471",
   "metadata": {},
   "source": [
    "Jak widać w tym przypadku metoda UBPL znacząco poprawia wyniki w stosunku do metody naiwnej, a zbalansowana dokładność dla UBPL jest zbliżona do zbalansowanej dokładności dla metody wyroczni."
   ]
  }
 ],
 "metadata": {
  "kernelspec": {
   "display_name": "Python 3 (ipykernel)",
   "language": "python",
   "name": "python3"
  },
  "language_info": {
   "codemirror_mode": {
    "name": "ipython",
    "version": 3
   },
   "file_extension": ".py",
   "mimetype": "text/x-python",
   "name": "python",
   "nbconvert_exporter": "python",
   "pygments_lexer": "ipython3",
   "version": "3.10.14"
  }
 },
 "nbformat": 4,
 "nbformat_minor": 5
}
